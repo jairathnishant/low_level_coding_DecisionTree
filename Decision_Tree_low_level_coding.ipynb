{
 "cells": [
  {
   "cell_type": "code",
   "execution_count": 6,
   "metadata": {},
   "outputs": [],
   "source": [
    "import pandas as pd\n",
    "import numpy as np"
   ]
  },
  {
   "cell_type": "code",
   "execution_count": 7,
   "metadata": {},
   "outputs": [],
   "source": [
    "# Read the dataset\n",
    "df = pd.read_csv(r'C:\\Users\\91996\\Downloads\\Interviews Prep & Assignments\\dataset.csv')"
   ]
  },
  {
   "cell_type": "code",
   "execution_count": 8,
   "metadata": {},
   "outputs": [],
   "source": [
    "df[\"Output\"] = np.random.choice(['Yes', 'No'], len(df))"
   ]
  },
  {
   "cell_type": "code",
   "execution_count": 9,
   "metadata": {},
   "outputs": [
    {
     "data": {
      "text/html": [
       "<div>\n",
       "<style scoped>\n",
       "    .dataframe tbody tr th:only-of-type {\n",
       "        vertical-align: middle;\n",
       "    }\n",
       "\n",
       "    .dataframe tbody tr th {\n",
       "        vertical-align: top;\n",
       "    }\n",
       "\n",
       "    .dataframe thead th {\n",
       "        text-align: right;\n",
       "    }\n",
       "</style>\n",
       "<table border=\"1\" class=\"dataframe\">\n",
       "  <thead>\n",
       "    <tr style=\"text-align: right;\">\n",
       "      <th></th>\n",
       "      <th>FirstName</th>\n",
       "      <th>LastName</th>\n",
       "      <th>Gender</th>\n",
       "      <th>Age</th>\n",
       "      <th>Output</th>\n",
       "    </tr>\n",
       "  </thead>\n",
       "  <tbody>\n",
       "    <tr>\n",
       "      <th>0</th>\n",
       "      <td>John</td>\n",
       "      <td>Smith</td>\n",
       "      <td>Male</td>\n",
       "      <td>45</td>\n",
       "      <td>Yes</td>\n",
       "    </tr>\n",
       "    <tr>\n",
       "      <th>1</th>\n",
       "      <td>Mike</td>\n",
       "      <td>Johnson</td>\n",
       "      <td>Male</td>\n",
       "      <td>34</td>\n",
       "      <td>Yes</td>\n",
       "    </tr>\n",
       "    <tr>\n",
       "      <th>2</th>\n",
       "      <td>Sam</td>\n",
       "      <td>Williams</td>\n",
       "      <td>Male</td>\n",
       "      <td>29</td>\n",
       "      <td>Yes</td>\n",
       "    </tr>\n",
       "    <tr>\n",
       "      <th>3</th>\n",
       "      <td>David</td>\n",
       "      <td>Jones</td>\n",
       "      <td>Male</td>\n",
       "      <td>62</td>\n",
       "      <td>Yes</td>\n",
       "    </tr>\n",
       "    <tr>\n",
       "      <th>4</th>\n",
       "      <td>Chris</td>\n",
       "      <td>Brown</td>\n",
       "      <td>Male</td>\n",
       "      <td>51</td>\n",
       "      <td>Yes</td>\n",
       "    </tr>\n",
       "  </tbody>\n",
       "</table>\n",
       "</div>"
      ],
      "text/plain": [
       "  FirstName  LastName Gender  Age Output\n",
       "0      John     Smith   Male   45    Yes\n",
       "1      Mike   Johnson   Male   34    Yes\n",
       "2       Sam  Williams   Male   29    Yes\n",
       "3     David     Jones   Male   62    Yes\n",
       "4     Chris     Brown   Male   51    Yes"
      ]
     },
     "execution_count": 9,
     "metadata": {},
     "output_type": "execute_result"
    }
   ],
   "source": [
    "df.head()"
   ]
  },
  {
   "cell_type": "code",
   "execution_count": 10,
   "metadata": {},
   "outputs": [],
   "source": [
    "def unique_vals(rows, col):\n",
    "    \"\"\"Find the unique values for a column in a dataset\"\"\"\n",
    "    return set([row[col] for row in rows])"
   ]
  },
  {
   "cell_type": "code",
   "execution_count": 11,
   "metadata": {},
   "outputs": [
    {
     "data": {
      "text/plain": [
       "{'e', 'n', 'r', 's', 't'}"
      ]
     },
     "execution_count": 11,
     "metadata": {},
     "output_type": "execute_result"
    }
   ],
   "source": [
    "unique_vals(df[slice(-1)], 2)"
   ]
  },
  {
   "cell_type": "code",
   "execution_count": 12,
   "metadata": {},
   "outputs": [],
   "source": [
    "def is_numeric(value):\n",
    "    return isinstance(value, int) or isinstance(value, float)"
   ]
  },
  {
   "cell_type": "code",
   "execution_count": 60,
   "metadata": {},
   "outputs": [
    {
     "data": {
      "text/plain": [
       "Index(['FirstName', 'LastName', 'Gender', 'Age', 'Output'], dtype='object')"
      ]
     },
     "execution_count": 60,
     "metadata": {},
     "output_type": "execute_result"
    }
   ],
   "source": [
    "header = df.columns\n",
    "header"
   ]
  },
  {
   "cell_type": "code",
   "execution_count": 14,
   "metadata": {},
   "outputs": [],
   "source": [
    "class Question:\n",
    "        \"\"\"A Question is used to partition a dataset.\n",
    "\n",
    "    This class just records a 'column number' (e.g., 0 for Color) and a\n",
    "    'column value' (e.g., Green). The 'match' method is used to compare\n",
    "    the feature value in an example to the feature value stored in the\n",
    "    question. See the demo below.\n",
    "    \"\"\"\n",
    "        def __init__(self, column, value):\n",
    "            self.column = column\n",
    "            self.value = value\n",
    "\n",
    "        def match(self, example):\n",
    "            # Compare the feature value in an example\n",
    "            # to the value in this question\n",
    "\n",
    "            val = example[self.column]\n",
    "            if is_numeric(val):\n",
    "                return val == self.value\n",
    "            else:\n",
    "                return val == self.value\n",
    "            \n",
    "        def __repr__(self):\n",
    "            # THis is just a helper method to print\n",
    "            # the question in a readable format\n",
    "            condition = \"==\"\n",
    "            if is_numeric(self.value):\n",
    "                condition = \">=\"\n",
    "            return \"Is %s %s %s?\" % (\n",
    "                header[self.column], condition, str(self.value))"
   ]
  },
  {
   "cell_type": "code",
   "execution_count": 15,
   "metadata": {},
   "outputs": [
    {
     "data": {
      "text/plain": [
       "Is Age >= 30?"
      ]
     },
     "execution_count": 15,
     "metadata": {},
     "output_type": "execute_result"
    }
   ],
   "source": [
    "# Qwestion for numeric attrivbute\n",
    "Question(3,30)"
   ]
  },
  {
   "cell_type": "code",
   "execution_count": 16,
   "metadata": {},
   "outputs": [],
   "source": [
    "# Question for categorical attribute\n",
    "\n",
    "q = Question(2, 'Male')"
   ]
  },
  {
   "cell_type": "code",
   "execution_count": 17,
   "metadata": {},
   "outputs": [],
   "source": [
    "example = df.loc[152]"
   ]
  },
  {
   "cell_type": "code",
   "execution_count": 18,
   "metadata": {},
   "outputs": [
    {
     "data": {
      "text/plain": [
       "FirstName      Poppy\n",
       "LastName     Ramirez\n",
       "Gender        Female\n",
       "Age               26\n",
       "Output           Yes\n",
       "Name: 152, dtype: object"
      ]
     },
     "execution_count": 18,
     "metadata": {},
     "output_type": "execute_result"
    }
   ],
   "source": [
    "example"
   ]
  },
  {
   "cell_type": "code",
   "execution_count": 19,
   "metadata": {},
   "outputs": [
    {
     "data": {
      "text/plain": [
       "False"
      ]
     },
     "execution_count": 19,
     "metadata": {},
     "output_type": "execute_result"
    }
   ],
   "source": [
    "q.match(example)"
   ]
  },
  {
   "cell_type": "code",
   "execution_count": 58,
   "metadata": {},
   "outputs": [],
   "source": [
    "def partition(rows, question):\n",
    "        \n",
    "        \"\"\"Partitions a dataset.\n",
    "\n",
    "    For each row in the dataset, check if it matches the question. If\n",
    "    so, add it to 'true rows', otherwise, add it to 'false rows'.\n",
    "    \"\"\"\n",
    "        true_rows, false_rows = [], []\n",
    "        for row in rows:\n",
    "            # row = row.tolist()\n",
    "            if question.match(row):\n",
    "                true_rows.append(row)\n",
    "            else:\n",
    "                false_rows.append(row)\n",
    "        return true_rows, false_rows"
   ]
  },
  {
   "cell_type": "code",
   "execution_count": 21,
   "metadata": {},
   "outputs": [],
   "source": [
    "true_rows, false_rows = partition(df.iterrows(), Question(2, \"Male\"))"
   ]
  },
  {
   "cell_type": "code",
   "execution_count": 46,
   "metadata": {},
   "outputs": [
    {
     "data": {
      "text/plain": [
       "[['Emma', 'Johnson', 'Female', 23, 'Yes'],\n",
       " ['Mia', 'Smith', 'Female', 34, 'No']]"
      ]
     },
     "execution_count": 46,
     "metadata": {},
     "output_type": "execute_result"
    }
   ],
   "source": [
    "false_rows[0:2]"
   ]
  },
  {
   "cell_type": "code",
   "execution_count": 37,
   "metadata": {},
   "outputs": [],
   "source": [
    "def class_counts(rows):\n",
    "    \n",
    "    \"\"\"Counts the number of each type of example in a dataset.\"\"\"\n",
    "    counts = {} # a dict of label:count\n",
    "    for row in rows:\n",
    "        # in our dataset format the label is always last col\n",
    "        print(row)\n",
    "        # row = row.tolist()\n",
    "        label = row[-1]\n",
    "        if label not in counts:\n",
    "            counts[label] = 0\n",
    "        counts[label] += 1\n",
    "    return counts\n"
   ]
  },
  {
   "cell_type": "code",
   "execution_count": 38,
   "metadata": {},
   "outputs": [],
   "source": [
    "def gini(rows):\n",
    "    \n",
    "    \"\"\"Calculate the Gini Impurity for a list of rows.\n",
    "\n",
    "    There are a few different ways to do this, I thought this one was\n",
    "    the most concise. \"\"\"\n",
    "    counts = class_counts(rows)\n",
    "    impurity = 1\n",
    "    # print(counts)\n",
    "    for lbl in counts:\n",
    "        prob_of_lbl = counts[lbl]/float(len(df))\n",
    "        impurity -= prob_of_lbl**2\n",
    "\n",
    "    return impurity"
   ]
  },
  {
   "cell_type": "code",
   "execution_count": 47,
   "metadata": {},
   "outputs": [
    {
     "name": "stdout",
     "output_type": "stream",
     "text": [
      "['Emma', 'Johnson', 'Female', 23, 'Yes']\n",
      "['Mia', 'Smith', 'Female', 34, 'No']\n"
     ]
    },
    {
     "data": {
      "text/plain": [
       "0.999914562775001"
      ]
     },
     "execution_count": 47,
     "metadata": {},
     "output_type": "execute_result"
    }
   ],
   "source": [
    "some_mixing = false_rows[0:2]\n",
    "# this will return 0\n",
    "gini(some_mixing)"
   ]
  },
  {
   "cell_type": "code",
   "execution_count": 48,
   "metadata": {},
   "outputs": [],
   "source": [
    "def info_gain(left, right, current_uncertainity):\n",
    "    \"\"\"Information Gain.\n",
    "    The uncertainty of the starting node, minus the weighted impurity of\n",
    "    two child nodes.\n",
    "    \"\"\"\n",
    "    p = float(len(left)) / (len(left) + len(right))\n",
    "    return current_uncertainity - p * gini(left) - (1-p)*gini(right)"
   ]
  },
  {
   "cell_type": "code",
   "execution_count": 49,
   "metadata": {},
   "outputs": [
    {
     "name": "stdout",
     "output_type": "stream",
     "text": [
      "FirstName\n",
      "LastName\n",
      "Gender\n",
      "Age\n",
      "Output\n"
     ]
    }
   ],
   "source": [
    "# Calculate the uncertainy of our training data.\n",
    "current_uncertainity = gini(df)"
   ]
  },
  {
   "cell_type": "code",
   "execution_count": 50,
   "metadata": {},
   "outputs": [
    {
     "data": {
      "text/plain": [
       "0.9995300952625058"
      ]
     },
     "execution_count": 50,
     "metadata": {},
     "output_type": "execute_result"
    }
   ],
   "source": [
    "current_uncertainity"
   ]
  },
  {
   "cell_type": "code",
   "execution_count": 51,
   "metadata": {},
   "outputs": [
    {
     "name": "stdout",
     "output_type": "stream",
     "text": [
      "['John', 'Smith', 'Male', 45, 'Yes']\n",
      "['Mike', 'Johnson', 'Male', 34, 'Yes']\n",
      "['Sam', 'Williams', 'Male', 29, 'Yes']\n",
      "['David', 'Jones', 'Male', 62, 'Yes']\n",
      "['Chris', 'Brown', 'Male', 51, 'Yes']\n",
      "['Mark', 'Davis', 'Male', 73, 'No']\n",
      "['Paul', 'Miller', 'Male', 37, 'Yes']\n",
      "['Brian', 'Wilson', 'Male', 25, 'No']\n",
      "['Kevin', 'Moore', 'Male', 48, 'Yes']\n",
      "['Jason', 'Taylor', 'Male', 53, 'No']\n",
      "['Andrew', 'Anderson', 'Male', 39, 'Yes']\n",
      "['Steven', 'Thomas', 'Male', 31, 'Yes']\n",
      "['Eric', 'Jackson', 'Male', 28, 'No']\n",
      "['Jake', 'White', 'Male', 66, 'Yes']\n",
      "['Ryan', 'Harris', 'Male', 44, 'Yes']\n",
      "['Adam', 'Martin', 'Male', 59, 'Yes']\n",
      "['Aaron', 'Thompson', 'Male', 23, 'No']\n",
      "['Bob', 'Garcia', 'Male', 36, 'Yes']\n",
      "['Charles', 'Martinez', 'Male', 41, 'Yes']\n",
      "['Scott', 'Robinson', 'Male', 26, 'Yes']\n",
      "['Frank', 'Clark', 'Male', 38, 'Yes']\n",
      "['Jared', 'Rodriguez', 'Male', 48, 'No']\n",
      "['Patrick', 'Lewis', 'Male', 70, 'Yes']\n",
      "['Daniel', 'Lee', 'Male', 32, 'Yes']\n",
      "['George', 'Walker', 'Male', 50, 'Yes']\n",
      "['Tyler', 'Hall', 'Male', 57, 'No']\n",
      "['Daniel', 'Young', 'Male', 27, 'Yes']\n",
      "['Nathan', 'Allen', 'Male', 64, 'No']\n",
      "['Evan', 'King', 'Male', 41, 'No']\n",
      "['Adam', 'Wright', 'Male', 54, 'No']\n",
      "['Jason', 'Scott', 'Male', 21, 'No']\n",
      "['Victor', 'Torres', 'Male', 35, 'No']\n",
      "['Bob', 'Nguyen', 'Male', 69, 'No']\n",
      "['Shawn', 'Hill', 'Male', 52, 'Yes']\n",
      "['Sam', 'Flores', 'Male', 40, 'No']\n",
      "['Ian', 'Green', 'Male', 78, 'No']\n",
      "['Leo', 'Adams', 'Male', 34, 'No']\n",
      "['Tony', 'Nelson', 'Male', 39, 'No']\n",
      "['Gary', 'Carter', 'Male', 42, 'Yes']\n",
      "['Richard', 'Mitchell', 'Male', 58, 'Yes']\n",
      "['Roy', 'Perez', 'Male', 25, 'Yes']\n",
      "['Greg', 'Roberts', 'Male', 64, 'Yes']\n",
      "['Leonard', 'Turner', 'Male', 29, 'No']\n",
      "['Philip', 'Phillips', 'Male', 61, 'Yes']\n",
      "['Jerry', 'Campbell', 'Male', 33, 'No']\n",
      "['Walter', 'Parker', 'Male', 72, 'Yes']\n",
      "['Anthony', 'Evans', 'Male', 44, 'No']\n",
      "['Timothy', 'Edwards', 'Male', 66, 'Yes']\n",
      "['Louis', 'Collins', 'Male', 46, 'No']\n",
      "['Derek', 'Stewart', 'Male', 34, 'No']\n",
      "['Emma', 'Johnson', 'Female', 23, 'Yes']\n",
      "['Mia', 'Smith', 'Female', 34, 'No']\n",
      "['Sophia', 'Davis', 'Female', 50, 'No']\n",
      "['Olivia', 'Garcia', 'Female', 29, 'Yes']\n",
      "['Ava', 'Rodriguez', 'Female', 41, 'No']\n",
      "['Isabella', 'Martinez', 'Female', 37, 'Yes']\n",
      "['Charlotte', 'Hernandez', 'Female', 28, 'Yes']\n",
      "['Amelia', 'Thompson', 'Female', 54, 'Yes']\n",
      "['Grace', 'Taylor', 'Female', 43, 'Yes']\n",
      "['Chloe', 'Moore', 'Female', 31, 'Yes']\n",
      "['Lily', 'Allen', 'Female', 27, 'Yes']\n",
      "['Zoe', 'Young', 'Female', 58, 'No']\n",
      "['Evelyn', 'Hall', 'Female', 45, 'No']\n",
      "['Harper', 'Nelson', 'Female', 63, 'Yes']\n",
      "['Scarlett', 'Mitchell', 'Female', 30, 'Yes']\n",
      "['Layla', 'Carter', 'Female', 38, 'No']\n",
      "['Aria', 'Scott', 'Female', 47, 'No']\n",
      "['Ella', 'Perez', 'Female', 26, 'No']\n",
      "['Hannah', 'Roberts', 'Female', 57, 'No']\n",
      "['Natalie', 'Turner', 'Female', 39, 'No']\n",
      "['Victoria', 'Phillips', 'Female', 52, 'No']\n",
      "['Lucy', 'Campbell', 'Female', 45, 'No']\n",
      "['Aurora', 'Parker', 'Female', 34, 'No']\n",
      "['Bella', 'Evans', 'Female', 40, 'No']\n",
      "['Aaliyah', 'Edwards', 'Female', 31, 'No']\n",
      "['Hannah', 'Collins', 'Female', 56, 'Yes']\n",
      "['Sarah', 'Stewart', 'Female', 41, 'No']\n",
      "['Madelyn', 'Harris', 'Female', 29, 'Yes']\n",
      "['Lila', 'Young', 'Female', 48, 'Yes']\n",
      "['Clara', 'King', 'Female', 36, 'No']\n",
      "['Yasmin', 'Hall', 'Female', 27, 'Yes']\n",
      "['Freya', 'Johnson', 'Female', 55, 'No']\n",
      "['Claire', 'Smith', 'Female', 46, 'No']\n",
      "['Sienna', 'Davis', 'Female', 33, 'No']\n",
      "['Kinsley', 'Garcia', 'Female', 39, 'No']\n",
      "['Nova', 'Rodriguez', 'Female', 44, 'Yes']\n",
      "['Genesis', 'Martinez', 'Female', 53, 'No']\n",
      "['Willow', 'Thompson', 'Female', 42, 'No']\n",
      "['Arianna', 'Taylor', 'Female', 38, 'Yes']\n",
      "['Autumn', 'Moore', 'Female', 54, 'No']\n",
      "['Nevaeh', 'Allen', 'Female', 29, 'No']\n",
      "['Kaylee', 'Young', 'Female', 49, 'Yes']\n",
      "['Piper', 'King', 'Female', 36, 'No']\n",
      "['Gianna', 'Hall', 'Female', 55, 'No']\n",
      "['Bella', 'Johnson', 'Female', 38, 'Yes']\n",
      "['Rylee', 'Smith', 'Female', 44, 'No']\n",
      "['Taylor', 'Garcia', 'Female', 32, 'No']\n",
      "['Callie', 'Rodriguez', 'Female', 59, 'No']\n",
      "['Tessa', 'Martinez', 'Female', 28, 'Yes']\n",
      "['Aaliyah', 'Thompson', 'Female', 45, 'No']\n",
      "['Emma', 'Johnson', 'Female', 22, 'Yes']\n",
      "['Olivia', 'Smith', 'Female', 35, 'No']\n",
      "['Ava', 'Williams', 'Female', 49, 'No']\n",
      "['Sophia', 'Brown', 'Female', 27, 'No']\n",
      "['Isabella', 'Jones', 'Female', 61, 'Yes']\n",
      "['Mia', 'Garcia', 'Female', 45, 'No']\n",
      "['Amelia', 'Miller', 'Female', 32, 'Yes']\n",
      "['Harper', 'Davis', 'Female', 39, 'Yes']\n",
      "['Evelyn', 'Rodriguez', 'Female', 53, 'Yes']\n",
      "['Abigail', 'Martinez', 'Female', 41, 'No']\n",
      "['Ella', 'Hernandez', 'Female', 29, 'No']\n",
      "['Scarlett', 'Thompson', 'Female', 19, 'Yes']\n",
      "['Grace', 'White', 'Female', 67, 'Yes']\n",
      "['Chloe', 'Anderson', 'Female', 58, 'Yes']\n",
      "['Lily', 'Taylor', 'Female', 38, 'No']\n",
      "['Aria', 'Thomas', 'Female', 26, 'No']\n",
      "['Zoey', 'Moore', 'Female', 44, 'Yes']\n",
      "['Stella', 'Jackson', 'Female', 34, 'Yes']\n",
      "['Natalie', 'Smith', 'Female', 50, 'No']\n",
      "['Ellie', 'Lee', 'Female', 72, 'No']\n",
      "['Aurora', 'Perez', 'Female', 15, 'Yes']\n",
      "['Hannah', 'Wilson', 'Female', 65, 'No']\n",
      "['Addison', 'Davis', 'Female', 47, 'Yes']\n",
      "['Lucy', 'Garcia', 'Female', 84, 'Yes']\n",
      "['Bella', 'Martinez', 'Female', 30, 'Yes']\n",
      "['Savannah', 'Hughes', 'Female', 41, 'Yes']\n",
      "['Layla', 'Porter', 'Female', 60, 'Yes']\n",
      "['Paisley', 'Cooper', 'Female', 24, 'Yes']\n",
      "['Riley', 'Reed', 'Female', 36, 'Yes']\n",
      "['Sarah', 'Edwards', 'Female', 46, 'Yes']\n",
      "['Claire', 'Phillips', 'Female', 71, 'Yes']\n",
      "['Audrey', 'Campbell', 'Female', 79, 'Yes']\n",
      "['Lucy', 'Parker', 'Female', 18, 'No']\n",
      "['Brooklyn', 'Evans', 'Female', 52, 'Yes']\n",
      "['Kinsley', 'Edwards', 'Female', 64, 'No']\n",
      "['Maya', 'Collins', 'Female', 23, 'Yes']\n",
      "['Skylar', 'Stewart', 'Female', 40, 'No']\n",
      "['Genesis', 'Sanchez', 'Female', 57, 'No']\n",
      "['Bella', 'Morris', 'Female', 43, 'Yes']\n",
      "['Ariana', 'Rogers', 'Female', 63, 'No']\n",
      "['Brooklyn', 'Reed', 'Female', 70, 'No']\n",
      "['Autumn', 'Cook', 'Female', 25, 'Yes']\n",
      "['Camila', 'Morgan', 'Female', 87, 'No']\n",
      "['Delilah', 'Bell', 'Female', 17, 'No']\n",
      "['Seraphina', 'Murphy', 'Female', 55, 'Yes']\n",
      "['Jessica', 'Rivera', 'Female', 59, 'No']\n",
      "['Charlotte', 'Cooper', 'Female', 34, 'No']\n",
      "['Samantha', 'Reed', 'Female', 78, 'No']\n",
      "['Victoria', 'Diaz', 'Female', 49, 'Yes']\n",
      "['Lila', 'Jenkins', 'Female', 68, 'No']\n",
      "['Norah', 'Wood', 'Female', 90, 'Yes']\n",
      "['Evelyn', 'King', 'Female', 53, 'No']\n",
      "['Poppy', 'Ramirez', 'Female', 26, 'Yes']\n"
     ]
    },
    {
     "data": {
      "text/plain": [
       "0.1704846775596336"
      ]
     },
     "execution_count": 51,
     "metadata": {},
     "output_type": "execute_result"
    }
   ],
   "source": [
    "# How much information do we gain by partioning on 'Male'?\n",
    "true_rows, false_rows = partition(df.iterrows(), Question(2, 'Male'))\n",
    "info_gain(true_rows, false_rows, current_uncertainity)"
   ]
  },
  {
   "cell_type": "code",
   "execution_count": null,
   "metadata": {},
   "outputs": [
    {
     "name": "stdout",
     "output_type": "stream",
     "text": [
      "['Brian', 'Wilson', 'Male', 25, 'No']\n",
      "['Roy', 'Perez', 'Male', 25, 'Yes']\n",
      "['Autumn', 'Cook', 'Female', 25, 'Yes']\n",
      "['John', 'Smith', 'Male', 45, 'Yes']\n",
      "['Mike', 'Johnson', 'Male', 34, 'Yes']\n",
      "['Sam', 'Williams', 'Male', 29, 'Yes']\n",
      "['David', 'Jones', 'Male', 62, 'Yes']\n",
      "['Chris', 'Brown', 'Male', 51, 'Yes']\n",
      "['Mark', 'Davis', 'Male', 73, 'No']\n",
      "['Paul', 'Miller', 'Male', 37, 'Yes']\n",
      "['Kevin', 'Moore', 'Male', 48, 'Yes']\n",
      "['Jason', 'Taylor', 'Male', 53, 'No']\n",
      "['Andrew', 'Anderson', 'Male', 39, 'Yes']\n",
      "['Steven', 'Thomas', 'Male', 31, 'Yes']\n",
      "['Eric', 'Jackson', 'Male', 28, 'No']\n",
      "['Jake', 'White', 'Male', 66, 'Yes']\n",
      "['Ryan', 'Harris', 'Male', 44, 'Yes']\n",
      "['Adam', 'Martin', 'Male', 59, 'Yes']\n",
      "['Aaron', 'Thompson', 'Male', 23, 'No']\n",
      "['Bob', 'Garcia', 'Male', 36, 'Yes']\n",
      "['Charles', 'Martinez', 'Male', 41, 'Yes']\n",
      "['Scott', 'Robinson', 'Male', 26, 'Yes']\n",
      "['Frank', 'Clark', 'Male', 38, 'Yes']\n",
      "['Jared', 'Rodriguez', 'Male', 48, 'No']\n",
      "['Patrick', 'Lewis', 'Male', 70, 'Yes']\n",
      "['Daniel', 'Lee', 'Male', 32, 'Yes']\n",
      "['George', 'Walker', 'Male', 50, 'Yes']\n",
      "['Tyler', 'Hall', 'Male', 57, 'No']\n",
      "['Daniel', 'Young', 'Male', 27, 'Yes']\n",
      "['Nathan', 'Allen', 'Male', 64, 'No']\n",
      "['Evan', 'King', 'Male', 41, 'No']\n",
      "['Adam', 'Wright', 'Male', 54, 'No']\n",
      "['Jason', 'Scott', 'Male', 21, 'No']\n",
      "['Victor', 'Torres', 'Male', 35, 'No']\n",
      "['Bob', 'Nguyen', 'Male', 69, 'No']\n",
      "['Shawn', 'Hill', 'Male', 52, 'Yes']\n",
      "['Sam', 'Flores', 'Male', 40, 'No']\n",
      "['Ian', 'Green', 'Male', 78, 'No']\n",
      "['Leo', 'Adams', 'Male', 34, 'No']\n",
      "['Tony', 'Nelson', 'Male', 39, 'No']\n",
      "['Gary', 'Carter', 'Male', 42, 'Yes']\n",
      "['Richard', 'Mitchell', 'Male', 58, 'Yes']\n",
      "['Greg', 'Roberts', 'Male', 64, 'Yes']\n",
      "['Leonard', 'Turner', 'Male', 29, 'No']\n",
      "['Philip', 'Phillips', 'Male', 61, 'Yes']\n",
      "['Jerry', 'Campbell', 'Male', 33, 'No']\n",
      "['Walter', 'Parker', 'Male', 72, 'Yes']\n",
      "['Anthony', 'Evans', 'Male', 44, 'No']\n",
      "['Timothy', 'Edwards', 'Male', 66, 'Yes']\n",
      "['Louis', 'Collins', 'Male', 46, 'No']\n",
      "['Derek', 'Stewart', 'Male', 34, 'No']\n",
      "['Emma', 'Johnson', 'Female', 23, 'Yes']\n",
      "['Mia', 'Smith', 'Female', 34, 'No']\n",
      "['Sophia', 'Davis', 'Female', 50, 'No']\n",
      "['Olivia', 'Garcia', 'Female', 29, 'Yes']\n",
      "['Ava', 'Rodriguez', 'Female', 41, 'No']\n",
      "['Isabella', 'Martinez', 'Female', 37, 'Yes']\n",
      "['Charlotte', 'Hernandez', 'Female', 28, 'Yes']\n",
      "['Amelia', 'Thompson', 'Female', 54, 'Yes']\n",
      "['Grace', 'Taylor', 'Female', 43, 'Yes']\n",
      "['Chloe', 'Moore', 'Female', 31, 'Yes']\n",
      "['Lily', 'Allen', 'Female', 27, 'Yes']\n",
      "['Zoe', 'Young', 'Female', 58, 'No']\n",
      "['Evelyn', 'Hall', 'Female', 45, 'No']\n",
      "['Harper', 'Nelson', 'Female', 63, 'Yes']\n",
      "['Scarlett', 'Mitchell', 'Female', 30, 'Yes']\n",
      "['Layla', 'Carter', 'Female', 38, 'No']\n",
      "['Aria', 'Scott', 'Female', 47, 'No']\n",
      "['Ella', 'Perez', 'Female', 26, 'No']\n",
      "['Hannah', 'Roberts', 'Female', 57, 'No']\n",
      "['Natalie', 'Turner', 'Female', 39, 'No']\n",
      "['Victoria', 'Phillips', 'Female', 52, 'No']\n",
      "['Lucy', 'Campbell', 'Female', 45, 'No']\n",
      "['Aurora', 'Parker', 'Female', 34, 'No']\n",
      "['Bella', 'Evans', 'Female', 40, 'No']\n",
      "['Aaliyah', 'Edwards', 'Female', 31, 'No']\n",
      "['Hannah', 'Collins', 'Female', 56, 'Yes']\n",
      "['Sarah', 'Stewart', 'Female', 41, 'No']\n",
      "['Madelyn', 'Harris', 'Female', 29, 'Yes']\n",
      "['Lila', 'Young', 'Female', 48, 'Yes']\n",
      "['Clara', 'King', 'Female', 36, 'No']\n",
      "['Yasmin', 'Hall', 'Female', 27, 'Yes']\n",
      "['Freya', 'Johnson', 'Female', 55, 'No']\n",
      "['Claire', 'Smith', 'Female', 46, 'No']\n",
      "['Sienna', 'Davis', 'Female', 33, 'No']\n",
      "['Kinsley', 'Garcia', 'Female', 39, 'No']\n",
      "['Nova', 'Rodriguez', 'Female', 44, 'Yes']\n",
      "['Genesis', 'Martinez', 'Female', 53, 'No']\n",
      "['Willow', 'Thompson', 'Female', 42, 'No']\n",
      "['Arianna', 'Taylor', 'Female', 38, 'Yes']\n",
      "['Autumn', 'Moore', 'Female', 54, 'No']\n",
      "['Nevaeh', 'Allen', 'Female', 29, 'No']\n",
      "['Kaylee', 'Young', 'Female', 49, 'Yes']\n",
      "['Piper', 'King', 'Female', 36, 'No']\n",
      "['Gianna', 'Hall', 'Female', 55, 'No']\n",
      "['Bella', 'Johnson', 'Female', 38, 'Yes']\n",
      "['Rylee', 'Smith', 'Female', 44, 'No']\n",
      "['Taylor', 'Garcia', 'Female', 32, 'No']\n",
      "['Callie', 'Rodriguez', 'Female', 59, 'No']\n",
      "['Tessa', 'Martinez', 'Female', 28, 'Yes']\n",
      "['Aaliyah', 'Thompson', 'Female', 45, 'No']\n",
      "['Emma', 'Johnson', 'Female', 22, 'Yes']\n",
      "['Olivia', 'Smith', 'Female', 35, 'No']\n",
      "['Ava', 'Williams', 'Female', 49, 'No']\n",
      "['Sophia', 'Brown', 'Female', 27, 'No']\n",
      "['Isabella', 'Jones', 'Female', 61, 'Yes']\n",
      "['Mia', 'Garcia', 'Female', 45, 'No']\n",
      "['Amelia', 'Miller', 'Female', 32, 'Yes']\n",
      "['Harper', 'Davis', 'Female', 39, 'Yes']\n",
      "['Evelyn', 'Rodriguez', 'Female', 53, 'Yes']\n",
      "['Abigail', 'Martinez', 'Female', 41, 'No']\n",
      "['Ella', 'Hernandez', 'Female', 29, 'No']\n",
      "['Scarlett', 'Thompson', 'Female', 19, 'Yes']\n",
      "['Grace', 'White', 'Female', 67, 'Yes']\n",
      "['Chloe', 'Anderson', 'Female', 58, 'Yes']\n",
      "['Lily', 'Taylor', 'Female', 38, 'No']\n",
      "['Aria', 'Thomas', 'Female', 26, 'No']\n",
      "['Zoey', 'Moore', 'Female', 44, 'Yes']\n",
      "['Stella', 'Jackson', 'Female', 34, 'Yes']\n",
      "['Natalie', 'Smith', 'Female', 50, 'No']\n",
      "['Ellie', 'Lee', 'Female', 72, 'No']\n",
      "['Aurora', 'Perez', 'Female', 15, 'Yes']\n",
      "['Hannah', 'Wilson', 'Female', 65, 'No']\n",
      "['Addison', 'Davis', 'Female', 47, 'Yes']\n",
      "['Lucy', 'Garcia', 'Female', 84, 'Yes']\n",
      "['Bella', 'Martinez', 'Female', 30, 'Yes']\n",
      "['Savannah', 'Hughes', 'Female', 41, 'Yes']\n",
      "['Layla', 'Porter', 'Female', 60, 'Yes']\n",
      "['Paisley', 'Cooper', 'Female', 24, 'Yes']\n",
      "['Riley', 'Reed', 'Female', 36, 'Yes']\n",
      "['Sarah', 'Edwards', 'Female', 46, 'Yes']\n",
      "['Claire', 'Phillips', 'Female', 71, 'Yes']\n",
      "['Audrey', 'Campbell', 'Female', 79, 'Yes']\n",
      "['Lucy', 'Parker', 'Female', 18, 'No']\n",
      "['Brooklyn', 'Evans', 'Female', 52, 'Yes']\n",
      "['Kinsley', 'Edwards', 'Female', 64, 'No']\n",
      "['Maya', 'Collins', 'Female', 23, 'Yes']\n",
      "['Skylar', 'Stewart', 'Female', 40, 'No']\n",
      "['Genesis', 'Sanchez', 'Female', 57, 'No']\n",
      "['Bella', 'Morris', 'Female', 43, 'Yes']\n",
      "['Ariana', 'Rogers', 'Female', 63, 'No']\n",
      "['Brooklyn', 'Reed', 'Female', 70, 'No']\n",
      "['Camila', 'Morgan', 'Female', 87, 'No']\n",
      "['Delilah', 'Bell', 'Female', 17, 'No']\n",
      "['Seraphina', 'Murphy', 'Female', 55, 'Yes']\n",
      "['Jessica', 'Rivera', 'Female', 59, 'No']\n",
      "['Charlotte', 'Cooper', 'Female', 34, 'No']\n",
      "['Samantha', 'Reed', 'Female', 78, 'No']\n",
      "['Victoria', 'Diaz', 'Female', 49, 'Yes']\n",
      "['Lila', 'Jenkins', 'Female', 68, 'No']\n",
      "['Norah', 'Wood', 'Female', 90, 'Yes']\n",
      "['Evelyn', 'King', 'Female', 53, 'No']\n",
      "['Poppy', 'Ramirez', 'Female', 26, 'Yes']\n"
     ]
    },
    {
     "data": {
      "text/plain": [
       "0.47077921262058575"
      ]
     },
     "execution_count": 53,
     "metadata": {},
     "output_type": "execute_result"
    }
   ],
   "source": [
    "# How much information do we gain by partioning on Age 25?\n",
    "true_rows, false_rows = partition(df.iterrows(), Question(3, 25))\n",
    "info_gain(true_rows, false_rows, current_uncertainity)"
   ]
  },
  {
   "cell_type": "code",
   "execution_count": null,
   "metadata": {},
   "outputs": [
    {
     "name": "stdout",
     "output_type": "stream",
     "text": [
      "FirstName\n",
      "LastName\n",
      "Gender\n",
      "Age\n",
      "Output\n",
      "0\n",
      "None\n",
      "1\n",
      "None\n",
      "2\n",
      "None\n",
      "3\n"
     ]
    },
    {
     "ename": "IndexError",
     "evalue": "string index out of range",
     "output_type": "error",
     "traceback": [
      "\u001b[1;31m---------------------------------------------------------------------------\u001b[0m",
      "\u001b[1;31mIndexError\u001b[0m                                Traceback (most recent call last)",
      "\u001b[1;32m<ipython-input-61-a951e1a8833a>\u001b[0m in \u001b[0;36m<module>\u001b[1;34m\u001b[0m\n\u001b[0;32m     39\u001b[0m \u001b[1;33m\u001b[0m\u001b[0m\n\u001b[0;32m     40\u001b[0m \u001b[1;33m\u001b[0m\u001b[0m\n\u001b[1;32m---> 41\u001b[1;33m \u001b[0mbest_gain\u001b[0m\u001b[1;33m,\u001b[0m \u001b[0mbest_question\u001b[0m \u001b[1;33m=\u001b[0m \u001b[0mfind_best_split\u001b[0m\u001b[1;33m(\u001b[0m\u001b[0mdf\u001b[0m\u001b[1;33m)\u001b[0m\u001b[1;33m\u001b[0m\u001b[1;33m\u001b[0m\u001b[0m\n\u001b[0m\u001b[0;32m     42\u001b[0m \u001b[0mbest_question\u001b[0m\u001b[1;33m\u001b[0m\u001b[1;33m\u001b[0m\u001b[0m\n",
      "\u001b[1;32m<ipython-input-61-a951e1a8833a>\u001b[0m in \u001b[0;36mfind_best_split\u001b[1;34m(rows)\u001b[0m\n\u001b[0;32m     16\u001b[0m             \u001b[1;32mpass\u001b[0m\u001b[1;33m\u001b[0m\u001b[1;33m\u001b[0m\u001b[0m\n\u001b[0;32m     17\u001b[0m         \u001b[0mrow_val\u001b[0m \u001b[1;33m=\u001b[0m \u001b[1;33m[\u001b[0m\u001b[1;33m]\u001b[0m\u001b[1;33m\u001b[0m\u001b[1;33m\u001b[0m\u001b[0m\n\u001b[1;32m---> 18\u001b[1;33m         \u001b[0mvalues\u001b[0m \u001b[1;33m=\u001b[0m \u001b[0mset\u001b[0m\u001b[1;33m(\u001b[0m\u001b[1;33m[\u001b[0m\u001b[0mrow_val\u001b[0m\u001b[1;33m.\u001b[0m\u001b[0mappend\u001b[0m\u001b[1;33m(\u001b[0m\u001b[0mrow\u001b[0m\u001b[1;33m[\u001b[0m\u001b[0mcol\u001b[0m\u001b[1;33m]\u001b[0m\u001b[1;33m)\u001b[0m \u001b[1;32mfor\u001b[0m \u001b[0mrow\u001b[0m \u001b[1;32min\u001b[0m \u001b[0mrows\u001b[0m\u001b[1;33m]\u001b[0m\u001b[1;33m)\u001b[0m\u001b[1;33m\u001b[0m\u001b[1;33m\u001b[0m\u001b[0m\n\u001b[0m\u001b[0;32m     19\u001b[0m         \u001b[1;31m# print(values)\u001b[0m\u001b[1;33m\u001b[0m\u001b[1;33m\u001b[0m\u001b[1;33m\u001b[0m\u001b[0m\n\u001b[0;32m     20\u001b[0m         \u001b[1;32mfor\u001b[0m \u001b[0mval\u001b[0m \u001b[1;32min\u001b[0m \u001b[0mvalues\u001b[0m\u001b[1;33m:\u001b[0m\u001b[1;33m\u001b[0m\u001b[1;33m\u001b[0m\u001b[0m\n",
      "\u001b[1;32m<ipython-input-61-a951e1a8833a>\u001b[0m in \u001b[0;36m<listcomp>\u001b[1;34m(.0)\u001b[0m\n\u001b[0;32m     16\u001b[0m             \u001b[1;32mpass\u001b[0m\u001b[1;33m\u001b[0m\u001b[1;33m\u001b[0m\u001b[0m\n\u001b[0;32m     17\u001b[0m         \u001b[0mrow_val\u001b[0m \u001b[1;33m=\u001b[0m \u001b[1;33m[\u001b[0m\u001b[1;33m]\u001b[0m\u001b[1;33m\u001b[0m\u001b[1;33m\u001b[0m\u001b[0m\n\u001b[1;32m---> 18\u001b[1;33m         \u001b[0mvalues\u001b[0m \u001b[1;33m=\u001b[0m \u001b[0mset\u001b[0m\u001b[1;33m(\u001b[0m\u001b[1;33m[\u001b[0m\u001b[0mrow_val\u001b[0m\u001b[1;33m.\u001b[0m\u001b[0mappend\u001b[0m\u001b[1;33m(\u001b[0m\u001b[0mrow\u001b[0m\u001b[1;33m[\u001b[0m\u001b[0mcol\u001b[0m\u001b[1;33m]\u001b[0m\u001b[1;33m)\u001b[0m \u001b[1;32mfor\u001b[0m \u001b[0mrow\u001b[0m \u001b[1;32min\u001b[0m \u001b[0mrows\u001b[0m\u001b[1;33m]\u001b[0m\u001b[1;33m)\u001b[0m\u001b[1;33m\u001b[0m\u001b[1;33m\u001b[0m\u001b[0m\n\u001b[0m\u001b[0;32m     19\u001b[0m         \u001b[1;31m# print(values)\u001b[0m\u001b[1;33m\u001b[0m\u001b[1;33m\u001b[0m\u001b[1;33m\u001b[0m\u001b[0m\n\u001b[0;32m     20\u001b[0m         \u001b[1;32mfor\u001b[0m \u001b[0mval\u001b[0m \u001b[1;32min\u001b[0m \u001b[0mvalues\u001b[0m\u001b[1;33m:\u001b[0m\u001b[1;33m\u001b[0m\u001b[1;33m\u001b[0m\u001b[0m\n",
      "\u001b[1;31mIndexError\u001b[0m: string index out of range"
     ]
    }
   ],
   "source": [
    "def find_best_split(rows):\n",
    "    \"\"\"Find the best question to ask by iterating over every\n",
    "    feature and calculating the information gain\"\"\"\n",
    "    # rows = rows.tolist()\n",
    "    \n",
    "    best_gain = 0\n",
    "    best_question = None\n",
    "    current_uncertainity = gini(rows)\n",
    "    # n_features = len(rows[0]) - 1 # number of cols\n",
    "    n_features = len(header)\n",
    "    \n",
    "    for col in range(len(header)):\n",
    "        # print(col)\n",
    "        for row in rows:\n",
    "            # print(\"row\")\n",
    "            pass\n",
    "        # row_val = []\n",
    "        # values = set([row_val.append(row[col]) for row in rows])\n",
    "        values = set(row[col] for row in rows)\n",
    "        # print(values)\n",
    "        for val in values:\n",
    "            print(val)\n",
    "            question = Question(col, val)\n",
    "            # print(question)\n",
    "            # splitting the data\n",
    "            true_rows, false_rows = partition(rows, question)\n",
    "\n",
    "            # skip this split if it doesn't divide the data\n",
    "\n",
    "            if len(true_rows) == 0 or len(false_rows) == 0:\n",
    "                continue\n",
    "\n",
    "            # Calc information gain from this split\n",
    "            gain = info_gain(true_rows, false_rows, current_uncertainity)\n",
    "\n",
    "            if gain >= best_gain:\n",
    "                best_gain, best_question = gain, question\n",
    "\n",
    "    return best_gain, best_question\n",
    "\n",
    "\n",
    "best_gain, best_question = find_best_split(df)\n",
    "best_question"
   ]
  },
  {
   "cell_type": "code",
   "execution_count": null,
   "metadata": {},
   "outputs": [
    {
     "name": "stdout",
     "output_type": "stream",
     "text": [
      "set()\n",
      "set()\n",
      "set()\n",
      "set()\n",
      "set()\n"
     ]
    }
   ],
   "source": [
    "best_gain, best_question = find_best_split(df.iterrows())\n",
    "best_question"
   ]
  }
 ],
 "metadata": {
  "kernelspec": {
   "display_name": "base",
   "language": "python",
   "name": "python3"
  },
  "language_info": {
   "codemirror_mode": {
    "name": "ipython",
    "version": 3
   },
   "file_extension": ".py",
   "mimetype": "text/x-python",
   "name": "python",
   "nbconvert_exporter": "python",
   "pygments_lexer": "ipython3",
   "version": "3.8.8"
  }
 },
 "nbformat": 4,
 "nbformat_minor": 2
}
